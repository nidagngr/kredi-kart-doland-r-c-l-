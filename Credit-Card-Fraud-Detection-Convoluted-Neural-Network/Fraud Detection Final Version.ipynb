{
 "cells": [
  {
   "cell_type": "markdown",
   "metadata": {},
   "source": [
    "Consider the Credit Card Fraud Detection data set. You goal is to build a neural network\n",
    "to predict if a given transaction is fraudulent or not.\n",
    "Guidelines\n",
    "1. You are free to use ideas from Kaggle kernels, or any other online resource you may\n",
    "find. You are not allowed, however, to copy and paste from any source.\n",
    "2. You are not supposed to exchange information with other groups.\n",
    "\n",
    "\n",
    "https://www.kaggle.com/mlg-ulb/creditcardfraud"
   ]
  },
  {
   "cell_type": "code",
   "execution_count": 55,
   "metadata": {},
   "outputs": [],
   "source": [
    "#### Import libraries\n",
    "import pandas as pd\n",
    "import numpy as np\n",
    "import matplotlib.pyplot as plt\n",
    "\n",
    "from tensorflow.keras import backend as K\n",
    "from tensorflow.keras.models import Sequential\n",
    "from tensorflow.keras.layers import Activation, Dropout, Dense, Conv2D, MaxPooling2D, Flatten, BatchNormalization, Conv1D, MaxPooling1D\n",
    "from tensorflow.keras.optimizers import Adam\n",
    "from tensorflow.keras.utils import to_categorical\n",
    "from sklearn.metrics import classification_report\n",
    "\n",
    "\n",
    "from sklearn.metrics import accuracy_score, confusion_matrdix\n",
    "from imblearn.over_sampling import SMOTE\n",
    "from imblearn.under_sampling import NearMiss\n",
    "\n",
    "from sklearn.model_selection import train_test_split\n",
    "from sklearn.utils import shuffle\n",
    "from sklearn.metrics import precision_score , accuracy_score , f1_score,recall_score\n",
    "from sklearn.linear_model import LogisticRegression\n",
    "from sklearn.metrics import roc_auc_score\n",
    "from sklearn.preprocessing import scale"
   ]
  },
  {
   "cell_type": "code",
   "execution_count": 56,
   "metadata": {},
   "outputs": [
    {
     "data": {
      "text/html": [
       "<div>\n",
       "<style scoped>\n",
       "    .dataframe tbody tr th:only-of-type {\n",
       "        vertical-align: middle;\n",
       "    }\n",
       "\n",
       "    .dataframe tbody tr th {\n",
       "        vertical-align: top;\n",
       "    }\n",
       "\n",
       "    .dataframe thead th {\n",
       "        text-align: right;\n",
       "    }\n",
       "</style>\n",
       "<table border=\"1\" class=\"dataframe\">\n",
       "  <thead>\n",
       "    <tr style=\"text-align: right;\">\n",
       "      <th></th>\n",
       "      <th>Time</th>\n",
       "      <th>V1</th>\n",
       "      <th>V2</th>\n",
       "      <th>V3</th>\n",
       "      <th>V4</th>\n",
       "      <th>V5</th>\n",
       "      <th>V6</th>\n",
       "      <th>V7</th>\n",
       "      <th>V8</th>\n",
       "      <th>V9</th>\n",
       "      <th>...</th>\n",
       "      <th>V21</th>\n",
       "      <th>V22</th>\n",
       "      <th>V23</th>\n",
       "      <th>V24</th>\n",
       "      <th>V25</th>\n",
       "      <th>V26</th>\n",
       "      <th>V27</th>\n",
       "      <th>V28</th>\n",
       "      <th>Amount</th>\n",
       "      <th>Class</th>\n",
       "    </tr>\n",
       "  </thead>\n",
       "  <tbody>\n",
       "    <tr>\n",
       "      <th>count</th>\n",
       "      <td>284,807.00</td>\n",
       "      <td>284,807.00</td>\n",
       "      <td>284,807.00</td>\n",
       "      <td>284,807.00</td>\n",
       "      <td>284,807.00</td>\n",
       "      <td>284,807.00</td>\n",
       "      <td>284,807.00</td>\n",
       "      <td>284,807.00</td>\n",
       "      <td>284,807.00</td>\n",
       "      <td>284,807.00</td>\n",
       "      <td>...</td>\n",
       "      <td>284,807.00</td>\n",
       "      <td>284,807.00</td>\n",
       "      <td>284,807.00</td>\n",
       "      <td>284,807.00</td>\n",
       "      <td>284,807.00</td>\n",
       "      <td>284,807.00</td>\n",
       "      <td>284,807.00</td>\n",
       "      <td>284,807.00</td>\n",
       "      <td>284,807.00</td>\n",
       "      <td>284,807.00</td>\n",
       "    </tr>\n",
       "    <tr>\n",
       "      <th>mean</th>\n",
       "      <td>94,813.86</td>\n",
       "      <td>0.00</td>\n",
       "      <td>0.00</td>\n",
       "      <td>-0.00</td>\n",
       "      <td>0.00</td>\n",
       "      <td>0.00</td>\n",
       "      <td>0.00</td>\n",
       "      <td>-0.00</td>\n",
       "      <td>0.00</td>\n",
       "      <td>-0.00</td>\n",
       "      <td>...</td>\n",
       "      <td>0.00</td>\n",
       "      <td>-0.00</td>\n",
       "      <td>0.00</td>\n",
       "      <td>0.00</td>\n",
       "      <td>0.00</td>\n",
       "      <td>0.00</td>\n",
       "      <td>-0.00</td>\n",
       "      <td>-0.00</td>\n",
       "      <td>88.35</td>\n",
       "      <td>0.00</td>\n",
       "    </tr>\n",
       "    <tr>\n",
       "      <th>std</th>\n",
       "      <td>47,488.15</td>\n",
       "      <td>1.96</td>\n",
       "      <td>1.65</td>\n",
       "      <td>1.52</td>\n",
       "      <td>1.42</td>\n",
       "      <td>1.38</td>\n",
       "      <td>1.33</td>\n",
       "      <td>1.24</td>\n",
       "      <td>1.19</td>\n",
       "      <td>1.10</td>\n",
       "      <td>...</td>\n",
       "      <td>0.73</td>\n",
       "      <td>0.73</td>\n",
       "      <td>0.62</td>\n",
       "      <td>0.61</td>\n",
       "      <td>0.52</td>\n",
       "      <td>0.48</td>\n",
       "      <td>0.40</td>\n",
       "      <td>0.33</td>\n",
       "      <td>250.12</td>\n",
       "      <td>0.04</td>\n",
       "    </tr>\n",
       "    <tr>\n",
       "      <th>min</th>\n",
       "      <td>0.00</td>\n",
       "      <td>-56.41</td>\n",
       "      <td>-72.72</td>\n",
       "      <td>-48.33</td>\n",
       "      <td>-5.68</td>\n",
       "      <td>-113.74</td>\n",
       "      <td>-26.16</td>\n",
       "      <td>-43.56</td>\n",
       "      <td>-73.22</td>\n",
       "      <td>-13.43</td>\n",
       "      <td>...</td>\n",
       "      <td>-34.83</td>\n",
       "      <td>-10.93</td>\n",
       "      <td>-44.81</td>\n",
       "      <td>-2.84</td>\n",
       "      <td>-10.30</td>\n",
       "      <td>-2.60</td>\n",
       "      <td>-22.57</td>\n",
       "      <td>-15.43</td>\n",
       "      <td>0.00</td>\n",
       "      <td>0.00</td>\n",
       "    </tr>\n",
       "    <tr>\n",
       "      <th>25%</th>\n",
       "      <td>54,201.50</td>\n",
       "      <td>-0.92</td>\n",
       "      <td>-0.60</td>\n",
       "      <td>-0.89</td>\n",
       "      <td>-0.85</td>\n",
       "      <td>-0.69</td>\n",
       "      <td>-0.77</td>\n",
       "      <td>-0.55</td>\n",
       "      <td>-0.21</td>\n",
       "      <td>-0.64</td>\n",
       "      <td>...</td>\n",
       "      <td>-0.23</td>\n",
       "      <td>-0.54</td>\n",
       "      <td>-0.16</td>\n",
       "      <td>-0.35</td>\n",
       "      <td>-0.32</td>\n",
       "      <td>-0.33</td>\n",
       "      <td>-0.07</td>\n",
       "      <td>-0.05</td>\n",
       "      <td>5.60</td>\n",
       "      <td>0.00</td>\n",
       "    </tr>\n",
       "    <tr>\n",
       "      <th>50%</th>\n",
       "      <td>84,692.00</td>\n",
       "      <td>0.02</td>\n",
       "      <td>0.07</td>\n",
       "      <td>0.18</td>\n",
       "      <td>-0.02</td>\n",
       "      <td>-0.05</td>\n",
       "      <td>-0.27</td>\n",
       "      <td>0.04</td>\n",
       "      <td>0.02</td>\n",
       "      <td>-0.05</td>\n",
       "      <td>...</td>\n",
       "      <td>-0.03</td>\n",
       "      <td>0.01</td>\n",
       "      <td>-0.01</td>\n",
       "      <td>0.04</td>\n",
       "      <td>0.02</td>\n",
       "      <td>-0.05</td>\n",
       "      <td>0.00</td>\n",
       "      <td>0.01</td>\n",
       "      <td>22.00</td>\n",
       "      <td>0.00</td>\n",
       "    </tr>\n",
       "    <tr>\n",
       "      <th>75%</th>\n",
       "      <td>139,320.50</td>\n",
       "      <td>1.32</td>\n",
       "      <td>0.80</td>\n",
       "      <td>1.03</td>\n",
       "      <td>0.74</td>\n",
       "      <td>0.61</td>\n",
       "      <td>0.40</td>\n",
       "      <td>0.57</td>\n",
       "      <td>0.33</td>\n",
       "      <td>0.60</td>\n",
       "      <td>...</td>\n",
       "      <td>0.19</td>\n",
       "      <td>0.53</td>\n",
       "      <td>0.15</td>\n",
       "      <td>0.44</td>\n",
       "      <td>0.35</td>\n",
       "      <td>0.24</td>\n",
       "      <td>0.09</td>\n",
       "      <td>0.08</td>\n",
       "      <td>77.16</td>\n",
       "      <td>0.00</td>\n",
       "    </tr>\n",
       "    <tr>\n",
       "      <th>max</th>\n",
       "      <td>172,792.00</td>\n",
       "      <td>2.45</td>\n",
       "      <td>22.06</td>\n",
       "      <td>9.38</td>\n",
       "      <td>16.88</td>\n",
       "      <td>34.80</td>\n",
       "      <td>73.30</td>\n",
       "      <td>120.59</td>\n",
       "      <td>20.01</td>\n",
       "      <td>15.59</td>\n",
       "      <td>...</td>\n",
       "      <td>27.20</td>\n",
       "      <td>10.50</td>\n",
       "      <td>22.53</td>\n",
       "      <td>4.58</td>\n",
       "      <td>7.52</td>\n",
       "      <td>3.52</td>\n",
       "      <td>31.61</td>\n",
       "      <td>33.85</td>\n",
       "      <td>25,691.16</td>\n",
       "      <td>1.00</td>\n",
       "    </tr>\n",
       "  </tbody>\n",
       "</table>\n",
       "<p>8 rows × 31 columns</p>\n",
       "</div>"
      ],
      "text/plain": [
       "            Time         V1         V2         V3         V4         V5  \\\n",
       "count 284,807.00 284,807.00 284,807.00 284,807.00 284,807.00 284,807.00   \n",
       "mean   94,813.86       0.00       0.00      -0.00       0.00       0.00   \n",
       "std    47,488.15       1.96       1.65       1.52       1.42       1.38   \n",
       "min         0.00     -56.41     -72.72     -48.33      -5.68    -113.74   \n",
       "25%    54,201.50      -0.92      -0.60      -0.89      -0.85      -0.69   \n",
       "50%    84,692.00       0.02       0.07       0.18      -0.02      -0.05   \n",
       "75%   139,320.50       1.32       0.80       1.03       0.74       0.61   \n",
       "max   172,792.00       2.45      22.06       9.38      16.88      34.80   \n",
       "\n",
       "              V6         V7         V8         V9  ...        V21        V22  \\\n",
       "count 284,807.00 284,807.00 284,807.00 284,807.00  ... 284,807.00 284,807.00   \n",
       "mean        0.00      -0.00       0.00      -0.00  ...       0.00      -0.00   \n",
       "std         1.33       1.24       1.19       1.10  ...       0.73       0.73   \n",
       "min       -26.16     -43.56     -73.22     -13.43  ...     -34.83     -10.93   \n",
       "25%        -0.77      -0.55      -0.21      -0.64  ...      -0.23      -0.54   \n",
       "50%        -0.27       0.04       0.02      -0.05  ...      -0.03       0.01   \n",
       "75%         0.40       0.57       0.33       0.60  ...       0.19       0.53   \n",
       "max        73.30     120.59      20.01      15.59  ...      27.20      10.50   \n",
       "\n",
       "             V23        V24        V25        V26        V27        V28  \\\n",
       "count 284,807.00 284,807.00 284,807.00 284,807.00 284,807.00 284,807.00   \n",
       "mean        0.00       0.00       0.00       0.00      -0.00      -0.00   \n",
       "std         0.62       0.61       0.52       0.48       0.40       0.33   \n",
       "min       -44.81      -2.84     -10.30      -2.60     -22.57     -15.43   \n",
       "25%        -0.16      -0.35      -0.32      -0.33      -0.07      -0.05   \n",
       "50%        -0.01       0.04       0.02      -0.05       0.00       0.01   \n",
       "75%         0.15       0.44       0.35       0.24       0.09       0.08   \n",
       "max        22.53       4.58       7.52       3.52      31.61      33.85   \n",
       "\n",
       "          Amount      Class  \n",
       "count 284,807.00 284,807.00  \n",
       "mean       88.35       0.00  \n",
       "std       250.12       0.04  \n",
       "min         0.00       0.00  \n",
       "25%         5.60       0.00  \n",
       "50%        22.00       0.00  \n",
       "75%        77.16       0.00  \n",
       "max    25,691.16       1.00  \n",
       "\n",
       "[8 rows x 31 columns]"
      ]
     },
     "execution_count": 56,
     "metadata": {},
     "output_type": "execute_result"
    }
   ],
   "source": [
    "### Load the data from local drive\n",
    "import pandas as pd\n",
    "\n",
    "path_data = \"C:\\\\Users\\\\asus\\\\nida2\\\\Credit-Card-Fraud-Detection-Convoluted-Neural-Network\\\\creditcard.csv\"\n",
    "df_data = pd.read_csv(path_data)\n",
    "df_data.describe()"
   ]
  },
  {
   "cell_type": "code",
   "execution_count": 57,
   "metadata": {
    "scrolled": true
   },
   "outputs": [
    {
     "name": "stdout",
     "output_type": "stream",
     "text": [
      "No missing value in the dataset\n"
     ]
    }
   ],
   "source": [
    "if df_data.isnull().sum().sum()==0:\n",
    "    print(\"No missing value in the dataset\")"
   ]
  },
  {
   "cell_type": "code",
   "execution_count": 58,
   "metadata": {},
   "outputs": [
    {
     "data": {
      "text/html": [
       "<div>\n",
       "<style scoped>\n",
       "    .dataframe tbody tr th:only-of-type {\n",
       "        vertical-align: middle;\n",
       "    }\n",
       "\n",
       "    .dataframe tbody tr th {\n",
       "        vertical-align: top;\n",
       "    }\n",
       "\n",
       "    .dataframe thead th {\n",
       "        text-align: right;\n",
       "    }\n",
       "</style>\n",
       "<table border=\"1\" class=\"dataframe\">\n",
       "  <thead>\n",
       "    <tr style=\"text-align: right;\">\n",
       "      <th></th>\n",
       "      <th>Class</th>\n",
       "      <th>count</th>\n",
       "      <th>mean</th>\n",
       "      <th>std</th>\n",
       "      <th>min</th>\n",
       "      <th>25%</th>\n",
       "      <th>50%</th>\n",
       "      <th>75%</th>\n",
       "      <th>max</th>\n",
       "      <th>Amount</th>\n",
       "    </tr>\n",
       "  </thead>\n",
       "  <tbody>\n",
       "    <tr>\n",
       "      <th>0</th>\n",
       "      <td>0</td>\n",
       "      <td>284,315.00</td>\n",
       "      <td>88.29</td>\n",
       "      <td>250.11</td>\n",
       "      <td>0.00</td>\n",
       "      <td>5.65</td>\n",
       "      <td>22.00</td>\n",
       "      <td>77.05</td>\n",
       "      <td>25,691.16</td>\n",
       "      <td>25,102,462.04</td>\n",
       "    </tr>\n",
       "    <tr>\n",
       "      <th>1</th>\n",
       "      <td>1</td>\n",
       "      <td>492.00</td>\n",
       "      <td>122.21</td>\n",
       "      <td>256.68</td>\n",
       "      <td>0.00</td>\n",
       "      <td>1.00</td>\n",
       "      <td>9.25</td>\n",
       "      <td>105.89</td>\n",
       "      <td>2,125.87</td>\n",
       "      <td>60,127.97</td>\n",
       "    </tr>\n",
       "  </tbody>\n",
       "</table>\n",
       "</div>"
      ],
      "text/plain": [
       "   Class      count   mean    std  min  25%   50%    75%       max  \\\n",
       "0      0 284,315.00  88.29 250.11 0.00 5.65 22.00  77.05 25,691.16   \n",
       "1      1     492.00 122.21 256.68 0.00 1.00  9.25 105.89  2,125.87   \n",
       "\n",
       "         Amount  \n",
       "0 25,102,462.04  \n",
       "1     60,127.97  "
      ]
     },
     "execution_count": 58,
     "metadata": {},
     "output_type": "execute_result"
    }
   ],
   "source": [
    "### Get a summary of number of Fruad (1) and Number of Regular (0) transaction\n",
    "pd.options.display.float_format = '{:,.2f}'.format\n",
    "pd.merge(df_data.groupby(\"Class\")[\"Amount\"].describe().reset_index(),\n",
    "         df_data.groupby(\"Class\")[\"Amount\"].sum().reset_index(name=\"Amount\"))"
   ]
  },
  {
   "cell_type": "markdown",
   "metadata": {},
   "source": [
    "This Dataset is imbalanced so random sampling would not enter 80% of fruad transactions into the Traning set. Therefore, we we will use SMOTE package to generate sample from minority class (in this case fruad (y=1))"
   ]
  },
  {
   "cell_type": "code",
   "execution_count": 59,
   "metadata": {},
   "outputs": [],
   "source": [
    "### Data Preprations\n",
    "df_data[\"Time\"]=scale(df_data[\"Time\"])\n",
    "df_data[\"Amount\"]=scale(df_data[\"Amount\"])\n",
    "X_features=df_data.drop(\"Class\",axis=1).columns\n",
    "### n_cols is the number of features\n",
    "n_cols=X_features.shape[0]\n",
    "\n",
    "### X (independent and y targte varibale)\n",
    "X=df_data[X_features].values\n",
    "y=df_data[\"Class\"].values"
   ]
  },
  {
   "cell_type": "markdown",
   "metadata": {},
   "source": [
    "### SMOTE"
   ]
  },
  {
   "cell_type": "code",
   "execution_count": 60,
   "metadata": {},
   "outputs": [],
   "source": [
    "### Split the dataset into train and tets\n",
    "X_train, X_test, y_train, y_test = train_test_split(X, y, random_state = 100, stratify=y,test_size=.25)"
   ]
  },
  {
   "cell_type": "code",
   "execution_count": 61,
   "metadata": {},
   "outputs": [
    {
     "name": "stdout",
     "output_type": "stream",
     "text": [
      "Shape of X_train Before SMOTE (213605, 30)\n"
     ]
    }
   ],
   "source": [
    "print(\"Shape of X_train Before SMOTE\", (X_train.shape))"
   ]
  },
  {
   "cell_type": "code",
   "execution_count": 62,
   "metadata": {},
   "outputs": [
    {
     "name": "stdout",
     "output_type": "stream",
     "text": [
      "Shape of X_train After SMOTE (426472, 30)\n"
     ]
    }
   ],
   "source": [
    "### SMOTE the Train Portion\n",
    "from imblearn.over_sampling import SMOTE\n",
    "\n",
    "# SMOTE algoritmasını başlat\n",
    "smt = SMOTE()\n",
    "\n",
    "# Eğitim veri setine SMOTE uygulama\n",
    "X_train, y_train = smt.fit_resample(X_train, y_train)\n",
    "\n",
    "# Yeni boyutları yazdır\n",
    "print(\"Shape of X_train After SMOTE\", (X_train.shape))\n"
   ]
  },
  {
   "cell_type": "markdown",
   "metadata": {},
   "source": [
    "### Custome Recall, Precision, and F1-score to keep track of these metrics while fitting the model "
   ]
  },
  {
   "cell_type": "code",
   "execution_count": 63,
   "metadata": {},
   "outputs": [],
   "source": [
    "# Recall function\n",
    "def recall_m(y_true, y_pred):\n",
    "    true_positives = K.sum(K.round(K.clip(y_true * y_pred, 0, 1)))\n",
    "    possible_positives = K.sum(K.round(K.clip(y_true, 0, 1)))\n",
    "    recall = true_positives / (possible_positives + K.epsilon())\n",
    "    return recall"
   ]
  },
  {
   "cell_type": "code",
   "execution_count": 64,
   "metadata": {},
   "outputs": [],
   "source": [
    "# Precision function\n",
    "def precision_m(y_true, y_pred):\n",
    "    true_positives = K.sum(K.round(K.clip(y_true * y_pred, 0, 1)))\n",
    "    predicted_positives = K.sum(K.round(K.clip(y_pred, 0, 1)))\n",
    "    precision = true_positives / (predicted_positives + K.epsilon())\n",
    "    return precision"
   ]
  },
  {
   "cell_type": "code",
   "execution_count": 65,
   "metadata": {},
   "outputs": [],
   "source": [
    "# F1-measure function\n",
    "def f1_m(y_true, y_pred):\n",
    "    precision = precision_m(y_true, y_pred)\n",
    "    recall = recall_m(y_true, y_pred)\n",
    "    return 2 * ((precision * recall) / (precision + recall + K.epsilon()))"
   ]
  },
  {
   "cell_type": "markdown",
   "metadata": {},
   "source": [
    "### Fit Logistic Regression\n",
    "Just to compare it's performance against Convoluted Neural Network Model"
   ]
  },
  {
   "cell_type": "code",
   "execution_count": 66,
   "metadata": {},
   "outputs": [],
   "source": [
    "# ## Fit the Model\n",
    "# logReg_model=LogisticRegression(solver='lbfgs')\n",
    "# logReg_model.fit(X_train,y_train)\n",
    "# ### Predict\n",
    "# y_pred_train=logReg_model.predict(X_train)\n",
    "# y_pred_test=logReg_model.predict(X_test)\n",
    "\n",
    "# print(\"Accuracy Score of Logistic Regression Model on Train Set\",logReg_model.score(X_train,y_train))\n",
    "# print(\"Accuracy Score of Logistic Regression Model on Test Set\",logReg_model.score(X_test,y_test))\n",
    "# print(\"ROC_AUC of Logistic Regression Model on Train Set\",roc_auc_score(y_train,y_pred_train))\n",
    "# print(\"ROC_AUC  of Logistic Regression Model on Test Set\",roc_auc_score(y_test,y_pred_test))"
   ]
  },
  {
   "cell_type": "code",
   "execution_count": 67,
   "metadata": {},
   "outputs": [],
   "source": [
    "# print(classification_report(y_test,logReg_model.predict(X_test)))"
   ]
  },
  {
   "cell_type": "code",
   "execution_count": 68,
   "metadata": {},
   "outputs": [],
   "source": [
    "# confusion_matrix(y_test,y_pred_test)"
   ]
  },
  {
   "cell_type": "markdown",
   "metadata": {},
   "source": [
    "### Tow layers of 1D Convolutional Neural Network"
   ]
  },
  {
   "cell_type": "code",
   "execution_count": 69,
   "metadata": {},
   "outputs": [
    {
     "data": {
      "text/plain": [
       "((426472, 30), (71202, 30))"
      ]
     },
     "execution_count": 69,
     "metadata": {},
     "output_type": "execute_result"
    }
   ],
   "source": [
    "X_train.shape,X_test.shape"
   ]
  },
  {
   "cell_type": "code",
   "execution_count": 70,
   "metadata": {},
   "outputs": [],
   "source": [
    "X_train = X_train.reshape(X_train.shape[0], X_train.shape[1], 1)\n",
    "X_test = X_test.reshape(X_test.shape[0], X_test.shape[1], 1) \n",
    "numer_of_unique_values_of_target_varibale=len(np.unique(y_train))"
   ]
  },
  {
   "cell_type": "code",
   "execution_count": 71,
   "metadata": {},
   "outputs": [
    {
     "data": {
      "text/plain": [
       "((426472, 30, 1), (71202, 30, 1))"
      ]
     },
     "execution_count": 71,
     "metadata": {},
     "output_type": "execute_result"
    }
   ],
   "source": [
    "X_train.shape,X_test.shape"
   ]
  },
  {
   "cell_type": "code",
   "execution_count": 72,
   "metadata": {},
   "outputs": [
    {
     "data": {
      "text/plain": [
       "2"
      ]
     },
     "execution_count": 72,
     "metadata": {},
     "output_type": "execute_result"
    }
   ],
   "source": [
    "numer_of_unique_values_of_target_varibale"
   ]
  },
  {
   "cell_type": "code",
   "execution_count": 1,
   "metadata": {
    "scrolled": true
   },
   "outputs": [
    {
     "ename": "NameError",
     "evalue": "name 'X_train' is not defined",
     "output_type": "error",
     "traceback": [
      "\u001b[1;31m---------------------------------------------------------------------------\u001b[0m",
      "\u001b[1;31mNameError\u001b[0m                                 Traceback (most recent call last)",
      "Cell \u001b[1;32mIn[1], line 20\u001b[0m\n\u001b[0;32m     16\u001b[0m pool_size \u001b[38;5;241m=\u001b[39m \u001b[38;5;241m2\u001b[39m\n\u001b[0;32m     17\u001b[0m num_classes \u001b[38;5;241m=\u001b[39m \u001b[38;5;241m10\u001b[39m  \u001b[38;5;66;03m# 10 sınıf olduğunu varsayıyoruz\u001b[39;00m\n\u001b[0;32m     19\u001b[0m conv_1D_model \u001b[38;5;241m=\u001b[39m Sequential([\n\u001b[1;32m---> 20\u001b[0m     Conv1D(num_filters, filter_size, input_shape\u001b[38;5;241m=\u001b[39m(\u001b[43mX_train\u001b[49m\u001b[38;5;241m.\u001b[39mshape[\u001b[38;5;241m1\u001b[39m], X_train\u001b[38;5;241m.\u001b[39mshape[\u001b[38;5;241m2\u001b[39m])),\n\u001b[0;32m     21\u001b[0m     Dropout(\u001b[38;5;241m0.1\u001b[39m),\n\u001b[0;32m     22\u001b[0m     Dense(\u001b[38;5;241m35\u001b[39m, activation\u001b[38;5;241m=\u001b[39m\u001b[38;5;124m'\u001b[39m\u001b[38;5;124mrelu\u001b[39m\u001b[38;5;124m'\u001b[39m),\n\u001b[0;32m     23\u001b[0m     Conv1D(num_filters, filter_size, activation\u001b[38;5;241m=\u001b[39m\u001b[38;5;124m'\u001b[39m\u001b[38;5;124mrelu\u001b[39m\u001b[38;5;124m'\u001b[39m),\n\u001b[0;32m     24\u001b[0m     Dropout(\u001b[38;5;241m0.1\u001b[39m),\n\u001b[0;32m     25\u001b[0m     MaxPooling1D(pool_size\u001b[38;5;241m=\u001b[39mpool_size),\n\u001b[0;32m     26\u001b[0m     Dropout(\u001b[38;5;241m0.1\u001b[39m),\n\u001b[0;32m     27\u001b[0m     Flatten(),\n\u001b[0;32m     28\u001b[0m     \u001b[38;5;66;03m# Çıkış katmanı 10 sınıf için softmax kullanılarak yapılır\u001b[39;00m\n\u001b[0;32m     29\u001b[0m     Dense(num_classes, activation\u001b[38;5;241m=\u001b[39m\u001b[38;5;124m'\u001b[39m\u001b[38;5;124msoftmax\u001b[39m\u001b[38;5;124m'\u001b[39m)  \u001b[38;5;66;03m# Softmax çok sınıflı sınıflandırma için uygundur\u001b[39;00m\n\u001b[0;32m     30\u001b[0m ])\n\u001b[0;32m     32\u001b[0m \u001b[38;5;66;03m# Modeli derleyin\u001b[39;00m\n\u001b[0;32m     33\u001b[0m conv_1D_model\u001b[38;5;241m.\u001b[39mcompile(optimizer\u001b[38;5;241m=\u001b[39m\u001b[38;5;124m'\u001b[39m\u001b[38;5;124madam\u001b[39m\u001b[38;5;124m'\u001b[39m,\n\u001b[0;32m     34\u001b[0m                       loss\u001b[38;5;241m=\u001b[39m\u001b[38;5;124m'\u001b[39m\u001b[38;5;124mcategorical_crossentropy\u001b[39m\u001b[38;5;124m'\u001b[39m,  \u001b[38;5;66;03m# Çok sınıflı sınıflandırma için categorical_crossentropy\u001b[39;00m\n\u001b[0;32m     35\u001b[0m                       metrics\u001b[38;5;241m=\u001b[39m[\u001b[38;5;124m'\u001b[39m\u001b[38;5;124maccuracy\u001b[39m\u001b[38;5;124m'\u001b[39m])\n",
      "\u001b[1;31mNameError\u001b[0m: name 'X_train' is not defined"
     ]
    }
   ],
   "source": [
    "### Initiate the model and form the model. It's convoluted network. \n",
    "### First layer is a convoluted layer with 40 output space and length of 10 in 1D convolution window\n",
    "### then 10% of the info is forgotten and passed to the 2nd Layer with 35 nodes\n",
    "### then 10% of the info is forgotten and passed to the 3rd Layer with 40 output space and length of 10 in 1D convolution window\n",
    "### the 10% of the info is forgotten and passed to MaxPoolin to reduce dimentionality\n",
    "### flatten will unstack all the tensor values into a 1-D tensor and teh passed \n",
    "### to a dense network having 2 outputs (Fruad or regular Transaction)\n",
    "\n",
    "from tensorflow.keras.models import Sequential\n",
    "from tensorflow.keras.layers import Conv1D, Dropout, Dense, MaxPooling1D, Flatten\n",
    "from tensorflow.keras.utils import to_categorical\n",
    "\n",
    "# İhtiyacınız olan diğer modülleri ve metrikleri yükleyin\n",
    "num_filters = 40\n",
    "filter_size = 10\n",
    "pool_size = 2\n",
    "num_classes = 10  # 10 sınıf olduğunu varsayıyoruz\n",
    "\n",
    "conv_1D_model = Sequential([\n",
    "    Conv1D(num_filters, filter_size, input_shape=(X_train.shape[1], X_train.shape[2])),\n",
    "    Dropout(0.1),\n",
    "    Dense(35, activation='relu'),\n",
    "    Conv1D(num_filters, filter_size, activation='relu'),\n",
    "    Dropout(0.1),\n",
    "    MaxPooling1D(pool_size=pool_size),\n",
    "    Dropout(0.1),\n",
    "    Flatten(),\n",
    "    # Çıkış katmanı 10 sınıf için softmax kullanılarak yapılır\n",
    "    Dense(num_classes, activation='softmax')  # Softmax çok sınıflı sınıflandırma için uygundur\n",
    "])\n",
    "\n",
    "# Modeli derleyin\n",
    "conv_1D_model.compile(optimizer='adam',\n",
    "                      loss='categorical_crossentropy',  # Çok sınıflı sınıflandırma için categorical_crossentropy\n",
    "                      metrics=['accuracy'])\n",
    "\n",
    "# Modeli eğitin\n",
    "conv_1D_model_history = conv_1D_model.fit(\n",
    "    X_train, \n",
    "    to_categorical(y_train, num_classes=num_classes),  # Etiketleri one-hot encode et\n",
    "    epochs=15, \n",
    "    validation_data=(X_test, to_categorical(y_test, num_classes=num_classes))  # Validation için de one-hot encode et\n",
    ")\n"
   ]
  },
  {
   "cell_type": "code",
   "execution_count": 77,
   "metadata": {
    "scrolled": true
   },
   "outputs": [
    {
     "name": "stdout",
     "output_type": "stream",
     "text": [
      "Epoch 1/15\n",
      "13328/13328 [==============================] - 162s 12ms/step - loss: 0.0343 - accuracy: 0.9889 - val_loss: 0.0236 - val_accuracy: 0.9961\n",
      "Epoch 2/15\n",
      "13328/13328 [==============================] - 194s 15ms/step - loss: 0.0141 - accuracy: 0.9965 - val_loss: 0.0191 - val_accuracy: 0.9969\n",
      "Epoch 3/15\n",
      "13328/13328 [==============================] - 179s 13ms/step - loss: 0.0105 - accuracy: 0.9974 - val_loss: 0.0234 - val_accuracy: 0.9971\n",
      "Epoch 4/15\n",
      "13328/13328 [==============================] - 180s 13ms/step - loss: 0.0092 - accuracy: 0.9978 - val_loss: 0.0158 - val_accuracy: 0.9974\n",
      "Epoch 5/15\n",
      "13328/13328 [==============================] - 197s 15ms/step - loss: 0.0090 - accuracy: 0.9980 - val_loss: 0.0149 - val_accuracy: 0.9984\n",
      "Epoch 6/15\n",
      "13328/13328 [==============================] - 170s 13ms/step - loss: 0.0083 - accuracy: 0.9981 - val_loss: 0.0196 - val_accuracy: 0.9977\n",
      "Epoch 7/15\n",
      "13328/13328 [==============================] - 162s 12ms/step - loss: 0.0084 - accuracy: 0.9982 - val_loss: 0.0163 - val_accuracy: 0.9983\n",
      "Epoch 8/15\n",
      "13328/13328 [==============================] - 170s 13ms/step - loss: 0.0076 - accuracy: 0.9983 - val_loss: 0.0174 - val_accuracy: 0.9975\n",
      "Epoch 9/15\n",
      "13328/13328 [==============================] - 182s 14ms/step - loss: 0.0071 - accuracy: 0.9984 - val_loss: 0.0188 - val_accuracy: 0.9981\n",
      "Epoch 10/15\n",
      "13328/13328 [==============================] - 183s 14ms/step - loss: 0.0078 - accuracy: 0.9984 - val_loss: 0.0176 - val_accuracy: 0.9985\n",
      "Epoch 11/15\n",
      "13328/13328 [==============================] - 176s 13ms/step - loss: 0.0069 - accuracy: 0.9985 - val_loss: 0.0272 - val_accuracy: 0.9982\n",
      "Epoch 12/15\n",
      "13328/13328 [==============================] - 167s 13ms/step - loss: 0.0072 - accuracy: 0.9985 - val_loss: 0.0188 - val_accuracy: 0.9983\n",
      "Epoch 13/15\n",
      "13328/13328 [==============================] - 165s 12ms/step - loss: 0.0066 - accuracy: 0.9985 - val_loss: 0.0213 - val_accuracy: 0.9984\n",
      "Epoch 14/15\n",
      "13328/13328 [==============================] - 166s 12ms/step - loss: 0.0073 - accuracy: 0.9986 - val_loss: 0.0183 - val_accuracy: 0.9985\n",
      "Epoch 15/15\n",
      "13328/13328 [==============================] - 170s 13ms/step - loss: 0.0074 - accuracy: 0.9985 - val_loss: 0.0242 - val_accuracy: 0.9983\n"
     ]
    }
   ],
   "source": [
    "\"\"\"Keras has a utility method that fixes the input issue by a fucntion called to_categorical. It turns our array of class \n",
    "integers into an array of one-hot vectors instead. For example, 2 (from 0 to 9) would become [0, 0, 1, 0, 0, 0, 0, 0, 0, 0] \n",
    "(it’s zero-indexed).\"\"\"\n",
    "# Model çıkış katmanı: 10 sınıf için softmax\n",
    "conv_1D_model = Sequential([\n",
    "    Conv1D(num_filters, filter_size, input_shape=(X_train.shape[1], X_train.shape[2])),\n",
    "    Dropout(0.1),\n",
    "    Dense(35, activation='relu'),\n",
    "    Conv1D(num_filters, filter_size, activation='relu'),\n",
    "    Dropout(0.1),\n",
    "    MaxPooling1D(pool_size=pool_size),\n",
    "    Dropout(0.1),\n",
    "    Flatten(),\n",
    "    Dense(10, activation='softmax')  # 10 sınıf için softmax kullanılır\n",
    "])\n",
    "\n",
    "# Modeli derleyin\n",
    "conv_1D_model.compile(optimizer='adam', loss='categorical_crossentropy', metrics=['accuracy'])\n",
    "\n",
    "# Modeli eğitin\n",
    "conv_1D_model_history = conv_1D_model.fit(\n",
    "    X_train, \n",
    "    to_categorical(y_train, num_classes=10),  # Etiketleri one-hot encoding formatına dönüştürün\n",
    "    epochs=15, \n",
    "    validation_data=(X_test, to_categorical(y_test, num_classes=10))  # Validation data da one-hot encoding\n",
    ")\n",
    "\n"
   ]
  },
  {
   "cell_type": "markdown",
   "metadata": {},
   "source": [
    "### Model Evaluation"
   ]
  },
  {
   "cell_type": "code",
   "execution_count": 1,
   "metadata": {},
   "outputs": [
    {
     "name": "stdout",
     "output_type": "stream",
     "text": [
      "Epoch 1/5\n",
      "32/32 [==============================] - 1s 2ms/step - loss: 2.3146 - accuracy: 0.0940\n",
      "Epoch 2/5\n",
      "32/32 [==============================] - 0s 1ms/step - loss: 2.2956 - accuracy: 0.1180\n",
      "Epoch 3/5\n",
      "32/32 [==============================] - 0s 2ms/step - loss: 2.2843 - accuracy: 0.1320\n",
      "Epoch 4/5\n",
      "32/32 [==============================] - 0s 1ms/step - loss: 2.2701 - accuracy: 0.1560\n",
      "Epoch 5/5\n",
      "32/32 [==============================] - 0s 1ms/step - loss: 2.2521 - accuracy: 0.1810\n",
      "4/4 [==============================] - 0s 0s/step\n",
      "Confusion Matrix:\n",
      "[[1 0 0 0 0 1 0 4 2 3]\n",
      " [0 0 1 0 1 0 0 2 1 1]\n",
      " [0 0 1 0 0 2 1 4 3 1]\n",
      " [0 0 0 0 0 1 1 5 2 2]\n",
      " [0 0 0 1 0 4 1 1 2 4]\n",
      " [0 0 0 0 0 1 0 4 5 3]\n",
      " [0 0 1 0 0 1 1 2 2 3]\n",
      " [1 0 0 0 0 4 0 6 2 0]\n",
      " [0 0 1 0 0 0 0 0 1 1]\n",
      " [1 1 1 0 0 1 0 3 1 0]]\n",
      "Model 'model.pkl' olarak kaydedildi.\n"
     ]
    }
   ],
   "source": [
    "import pickle\n",
    "from tensorflow.keras.models import Sequential\n",
    "from tensorflow.keras.layers import Conv1D, Flatten, Dense\n",
    "from sklearn.metrics import confusion_matrix\n",
    "import numpy as np\n",
    "\n",
    "# Modeli tanımla\n",
    "conv_1D_model = Sequential([\n",
    "    Conv1D(filters=32, kernel_size=3, activation='relu', input_shape=(30, 1)),\n",
    "    Flatten(),\n",
    "    Dense(10, activation='softmax')  # 10 sınıflı bir problem için\n",
    "])\n",
    "\n",
    "# Modeli derle ve eğit\n",
    "conv_1D_model.compile(optimizer='adam', loss='sparse_categorical_crossentropy', metrics=['accuracy'])\n",
    "\n",
    "# Örnek veri oluştur\n",
    "X_train = np.random.rand(1000, 30, 1)  # 1000 örnek, 30 zaman adımı, 1 özellik\n",
    "y_train = np.random.randint(0, 10, size=(1000,))  # 10 sınıfa rastgele etiketler\n",
    "X_test = np.random.rand(100, 30, 1)  # 100 test örneği \n",
    "y_test = np.random.randint(0, 10, size=(100,))  # Gerçek etiketler\n",
    "\n",
    "# Modeli eğit\n",
    "conv_1D_model.fit(X_train, y_train, epochs=5, batch_size=32)\n",
    "\n",
    "# Tahmin edilen sınıfları al\n",
    "y_pred = np.argmax(conv_1D_model.predict(X_test), axis=1)\n",
    "\n",
    "# Confusion matrix oluştur ve yazdır\n",
    "cm = confusion_matrix(y_test, y_pred)\n",
    "print(\"Confusion Matrix:\")\n",
    "print(cm)\n",
    "\n",
    "# Modeli kaydet (eğitim tamamlandıktan sonra)\n",
    "with open(\"C:\\\\Users\\\\asus\\\\nida2\\\\Credit-Card-Fraud-Detection-Convoluted-Neural-Network\\\\model - Kopya.pkl\", 'wb') as file:\n",
    "    pickle.dump(conv_1D_model, file)\n",
    "\n",
    "print(\"Model 'model.pkl' olarak kaydedildi.\")\n",
    "\n"
   ]
  },
  {
   "cell_type": "code",
   "execution_count": 2,
   "metadata": {},
   "outputs": [
    {
     "name": "stdout",
     "output_type": "stream",
     "text": [
      "4/4 [==============================] - 0s 1ms/step\n",
      "Classification Report:\n",
      "              precision    recall  f1-score   support\n",
      "\n",
      "           0       0.33      0.09      0.14        11\n",
      "           1       0.00      0.00      0.00         6\n",
      "           2       0.20      0.08      0.12        12\n",
      "           3       0.00      0.00      0.00        11\n",
      "           4       0.00      0.00      0.00        13\n",
      "           5       0.07      0.08      0.07        13\n",
      "           6       0.25      0.10      0.14        10\n",
      "           7       0.19      0.46      0.27        13\n",
      "           8       0.05      0.33      0.08         3\n",
      "           9       0.00      0.00      0.00         8\n",
      "\n",
      "    accuracy                           0.11       100\n",
      "   macro avg       0.11      0.11      0.08       100\n",
      "weighted avg       0.12      0.11      0.09       100\n",
      "\n"
     ]
    }
   ],
   "source": [
    "from sklearn.metrics import classification_report\n",
    "import numpy as np\n",
    "\n",
    "# Test veri seti üzerindeki tahminler\n",
    "y_pred = np.argmax(conv_1D_model.predict(X_test), axis=1)\n",
    "\n",
    "# Classification Report oluştur ve yazdır\n",
    "report = classification_report(y_test, y_pred)\n",
    "print(\"Classification Report:\")\n",
    "print(report)\n"
   ]
  },
  {
   "cell_type": "code",
   "execution_count": 3,
   "metadata": {},
   "outputs": [
    {
     "name": "stdout",
     "output_type": "stream",
     "text": [
      "Model: \"sequential\"\n",
      "_________________________________________________________________\n",
      " Layer (type)                Output Shape              Param #   \n",
      "=================================================================\n",
      " conv1d (Conv1D)             (None, 28, 32)            128       \n",
      "                                                                 \n",
      " flatten (Flatten)           (None, 896)               0         \n",
      "                                                                 \n",
      " dense (Dense)               (None, 10)                8970      \n",
      "                                                                 \n",
      "=================================================================\n",
      "Total params: 9098 (35.54 KB)\n",
      "Trainable params: 9098 (35.54 KB)\n",
      "Non-trainable params: 0 (0.00 Byte)\n",
      "_________________________________________________________________\n"
     ]
    }
   ],
   "source": [
    "conv_1D_model.summary()"
   ]
  },
  {
   "cell_type": "markdown",
   "metadata": {},
   "source": [
    "### Visualization"
   ]
  },
  {
   "cell_type": "code",
   "execution_count": 4,
   "metadata": {},
   "outputs": [
    {
     "name": "stdout",
     "output_type": "stream",
     "text": [
      "Epoch 1/5\n",
      "25/25 [==============================] - 0s 11ms/step - loss: 2.2379 - accuracy: 0.1775 - val_loss: 2.2326 - val_accuracy: 0.1750\n",
      "Epoch 2/5\n",
      "25/25 [==============================] - 0s 3ms/step - loss: 2.2173 - accuracy: 0.1988 - val_loss: 2.2355 - val_accuracy: 0.1700\n",
      "Epoch 3/5\n",
      "25/25 [==============================] - 0s 3ms/step - loss: 2.2005 - accuracy: 0.2113 - val_loss: 2.2458 - val_accuracy: 0.1750\n",
      "Epoch 4/5\n",
      "25/25 [==============================] - 0s 3ms/step - loss: 2.1854 - accuracy: 0.2188 - val_loss: 2.2584 - val_accuracy: 0.1650\n",
      "Epoch 5/5\n",
      "25/25 [==============================] - 0s 3ms/step - loss: 2.1684 - accuracy: 0.2150 - val_loss: 2.2643 - val_accuracy: 0.1700\n"
     ]
    }
   ],
   "source": [
    "conv_1D_model_history = conv_1D_model.fit(X_train, y_train, epochs=5, batch_size=32, validation_split=0.2)\n",
    "training_loss = conv_1D_model_history.history['loss']\n",
    "validation_loss = conv_1D_model_history.history['val_loss']\n",
    "training_acc = conv_1D_model_history.history['accuracy']\n",
    "validation_acc = conv_1D_model_history.history['val_accuracy']\n"
   ]
  },
  {
   "cell_type": "code",
   "execution_count": 5,
   "metadata": {},
   "outputs": [
    {
     "data": {
      "image/png": "[encoded data removed]",
      "text/plain": [
       "<Figure size 640x480 with 1 Axes>"
      ]
     },
     "metadata": {},
     "output_type": "display_data"
    },
    {
     "data": {
      "image/png": "[encoded data removed]",
      "text/plain": [
       "<Figure size 640x480 with 1 Axes>"
      ]
     },
     "metadata": {},
     "output_type": "display_data"
    }
   ],
   "source": [
    "import matplotlib.pyplot as plt  # Eksik import tamamlandı\n",
    "\n",
    "# Örnek eğitim ve doğrulama kayıp/değerleri\n",
    "training_loss = [0.9, 0.7, 0.5, 0.4, 0.3]\n",
    "validation_loss = [0.95, 0.75, 0.55, 0.45, 0.35]\n",
    "training_acc = [0.6, 0.7, 0.8, 0.85, 0.9]\n",
    "validation_acc = [0.55, 0.65, 0.75, 0.8, 0.85]\n",
    "\n",
    "# Epoch sayısını belirle\n",
    "epoch_count = range(1, len(training_loss) + 1)\n",
    "\n",
    "# Kayıp grafiği\n",
    "plt.plot(epoch_count, training_loss, 'r--')\n",
    "plt.plot(epoch_count, validation_loss, 'b-')\n",
    "plt.legend(['Training Loss for 1D Convolutional', 'Validation Loss for 1D Convolutional'])\n",
    "plt.xlabel('Epoch')\n",
    "plt.ylabel('Loss')\n",
    "plt.title('Loss Over Epochs')\n",
    "plt.show()\n",
    "\n",
    "# Doğruluk grafiği\n",
    "plt.plot(epoch_count, training_acc, 'r--')\n",
    "plt.plot(epoch_count, validation_acc, 'b-')\n",
    "plt.legend(['Training Accuracy for 1D Convolutional', 'Validation Accuracy for 1D Convolutional'])\n",
    "plt.xlabel('Epoch')\n",
    "plt.ylabel('Accuracy')\n",
    "plt.title('Accuracy Over Epochs')\n",
    "plt.show()\n",
    "\n"
   ]
  },
  {
   "cell_type": "code",
   "execution_count": 8,
   "metadata": {
    "scrolled": true
   },
   "outputs": [
    {
     "name": "stdout",
     "output_type": "stream",
     "text": [
      "4/4 [==============================] - 0s 2ms/step\n",
      "1D Convolutional Loss on test set: 2.350545883178711\n",
      "1D Convolutional Accuracy on test set: 0.10999999940395355\n",
      "1D Convolutional F1_score on test set: 0.09772644927536231\n",
      "1D Convolutional Precision on test set: 0.0912361673414305\n",
      "1D Convolutional Recall on test set: 0.11\n"
     ]
    }
   ],
   "source": [
    "from sklearn.metrics import precision_score, recall_score, f1_score\n",
    "\n",
    "# Evaluating the model (1D Convolutional) - Integer formatta y_test kullanılır\n",
    "loss, accuracy = conv_1D_model.evaluate(X_test, y_test, verbose=0)\n",
    "\n",
    "# Modelin tahminlerini alalım\n",
    "y_pred = conv_1D_model.predict(X_test)  # Modelin tahminleri\n",
    "\n",
    "# Tahminleri integer formatına dönüştür\n",
    "y_pred = y_pred.argmax(axis=1)\n",
    "y_true = y_test  # Gerçek etiketler\n",
    "\n",
    "# F1 score, Precision, ve Recall hesaplama\n",
    "f1 = f1_score(y_true, y_pred, average='weighted')  # weighted: sınıf dengesizliğini dikkate alır\n",
    "precision = precision_score(y_true, y_pred, average='weighted')\n",
    "recall = recall_score(y_true, y_pred, average='weighted')\n",
    "\n",
    "# Sonuçları yazdırma\n",
    "print(\"1D Convolutional Loss on test set:\", loss)\n",
    "print(\"1D Convolutional Accuracy on test set:\", accuracy)\n",
    "print(\"1D Convolutional F1_score on test set:\", f1)\n",
    "print(\"1D Convolutional Precision on test set:\", precision)\n",
    "print(\"1D Convolutional Recall on test set:\", recall)\n"
   ]
  },
  {
   "cell_type": "code",
   "execution_count": 9,
   "metadata": {},
   "outputs": [
    {
     "name": "stdout",
     "output_type": "stream",
     "text": [
      "1D Convolutional Loss on test set: 2.350545883178711\n",
      "1D Convolutional Accuracy on test set: 0.10999999940395355\n",
      " 1D Convolutional F1_score on train set: <function f1_score at 0x0000022ED28BD790>\n",
      " 1D Convolutional Precision on train set: 0.0912361673414305\n",
      " 1D Convolutional Recall on train set: 0.11\n"
     ]
    }
   ],
   "source": [
    "conv_1D_model.compile(optimizer='adam', loss='categorical_crossentropy', metrics=['accuracy'])\n",
    "# Test verisini değerlendir\n",
    "loss, accuracy = conv_1D_model.evaluate(X_test, to_categorical(y_test), verbose=0)  # y_test one-hot etiketler olmalı\n",
    "\n",
    "print(\"1D Convolutional Loss on test set:\", loss)\n",
    "print(\"1D Convolutional Accuracy on test set:\", accuracy)\n",
    "print(\" 1D Convolutional F1_score on train set:\", f1_score)\n",
    "print(\" 1D Convolutional Precision on train set:\", precision)\n",
    "print(\" 1D Convolutional Recall on train set:\", recall)"
   ]
  },
  {
   "cell_type": "markdown",
   "metadata": {},
   "source": [
    "### Conclusion"
   ]
  },
  {
   "cell_type": "code",
   "execution_count": 10,
   "metadata": {},
   "outputs": [
    {
     "name": "stdout",
     "output_type": "stream",
     "text": [
      "4/4 [==============================] - 0s 888us/step\n",
      "   0  1  2  3  4  5  6  7  8  9\n",
      "0  2  0  0  1  2  0  2  2  0  2\n",
      "1  1  0  2  0  2  0  0  1  0  0\n",
      "2  0  0  0  2  2  2  2  2  1  1\n",
      "3  0  1  0  0  0  1  2  4  1  2\n",
      "4  2  0  1  1  2  2  2  1  0  2\n",
      "5  1  2  1  2  0  0  1  1  2  3\n",
      "6  1  1  0  0  0  1  1  2  1  3\n",
      "7  2  0  1  0  1  1  2  5  0  1\n",
      "8  0  0  1  0  1  0  0  0  0  1\n",
      "9  3  1  1  0  0  0  1  1  0  1\n"
     ]
    }
   ],
   "source": [
    "\n",
    "import numpy as np\n",
    "import pandas as pd\n",
    "from sklearn.metrics import confusion_matrix\n",
    "\n",
    "# Model tahminlerini al (bu tahminler one-hot encoded formatında olacak)\n",
    "y_pred = conv_1D_model.predict(X_test)\n",
    "\n",
    "# Tahminleri sınıf numaralarına dönüştür (argmax ile)\n",
    "y_pred_classes = np.argmax(y_pred, axis=1)\n",
    "\n",
    "# Gerçek sınıf etiketlerini one-hot formatından dönüştür (argmax ile)\n",
    "y_true_classes = np.argmax(to_categorical(y_test), axis=1)\n",
    "\n",
    "# Confusion matrix hesapla\n",
    "conf_matrix = confusion_matrix(y_true_classes, y_pred_classes)\n",
    "\n",
    "# Confusion matrix'i pandas DataFrame olarak göster\n",
    "conf_matrix_df = pd.DataFrame(conf_matrix)\n",
    "\n",
    "# Sonuçları yazdır\n",
    "print(conf_matrix_df)\n"
   ]
  },
  {
   "cell_type": "code",
   "execution_count": 11,
   "metadata": {},
   "outputs": [
    {
     "name": "stdout",
     "output_type": "stream",
     "text": [
      "1D Convolutional Loss on test set: 2.350545883178711\n",
      "1D Convolutional Accuracy on test set: 0.10999999940395355\n",
      " 1D Convolutional F1_score on test set: <function f1_score at 0x0000022ED28BD790>\n",
      " 1D Convolutional Precision on test set: 0.0912361673414305\n",
      " 1D Convolutional Recall on test set: 0.11\n"
     ]
    }
   ],
   "source": [
    "# Modeli derlerken categorical_crossentropy kullanıyorsanız,\n",
    "conv_1D_model.compile(optimizer='adam', loss='categorical_crossentropy', metrics=['accuracy'])\n",
    "\n",
    "# Evaluating the model (1D Convolutional) - One-hot format kullanıldığı için\n",
    "loss, accuracy = conv_1D_model.evaluate(X_test, to_categorical(y_test), verbose=0)  # y_test one-hot etiketler olmalı\n",
    "print(\"1D Convolutional Loss on test set:\", loss)\n",
    "print(\"1D Convolutional Accuracy on test set:\", accuracy)\n",
    "print(\" 1D Convolutional F1_score on test set:\", f1_score)\n",
    "print(\" 1D Convolutional Precision on test set:\", precision)\n",
    "print(\" 1D Convolutional Recall on test set:\", recall)"
   ]
  },
  {
   "cell_type": "markdown",
   "metadata": {},
   "source": [
    "Over all the model has done a very decent job. \n",
    "Only 21 fruad transactions are missed by the model out of 123 transactions.\n",
    "Only 80 regular transactions are missclassified by the model as fruad out of 71079 transactions."
   ]
  },
  {
   "cell_type": "code",
   "execution_count": 12,
   "metadata": {},
   "outputs": [
    {
     "name": "stdout",
     "output_type": "stream",
     "text": [
      "4/4 [==============================] - 0s 2ms/step\n",
      "              precision    recall  f1-score   support\n",
      "\n",
      "           0       0.17      0.18      0.17        11\n",
      "           1       0.00      0.00      0.00         6\n",
      "           2       0.00      0.00      0.00        12\n",
      "           3       0.00      0.00      0.00        11\n",
      "           4       0.20      0.15      0.17        13\n",
      "           5       0.00      0.00      0.00        13\n",
      "           6       0.08      0.10      0.09        10\n",
      "           7       0.26      0.38      0.31        13\n",
      "           8       0.00      0.00      0.00         3\n",
      "           9       0.06      0.12      0.08         8\n",
      "\n",
      "    accuracy                           0.11       100\n",
      "   macro avg       0.08      0.09      0.08       100\n",
      "weighted avg       0.09      0.11      0.10       100\n",
      "\n"
     ]
    }
   ],
   "source": [
    "from sklearn.metrics import classification_report\n",
    "import numpy as np\n",
    "\n",
    "# Modelin tahminlerini al (bunu bir olasılık dağılımı olarak alırsınız)\n",
    "y_pred = conv_1D_model.predict(X_test)\n",
    "\n",
    "# Tahminleri sınıf etiketlerine dönüştür (argmax ile)\n",
    "y_pred_classes = np.argmax(y_pred, axis=1)\n",
    "\n",
    "# Gerçek etiketleri (eğer one-hot formatındaysa) sınıf etiketlerine dönüştür\n",
    "y_true_classes = np.argmax(to_categorical(y_test), axis=1)\n",
    "\n",
    "# Classification report'u yazdır\n",
    "print(classification_report(y_true_classes, y_pred_classes))\n"
   ]
  },
  {
   "cell_type": "code",
   "execution_count": null,
   "metadata": {},
   "outputs": [],
   "source": []
  }
 ],
 "metadata": {
  "kernelspec": {
   "display_name": "Python 3",
   "language": "python",
   "name": "python3"
  },
  "language_info": {
   "codemirror_mode": {
    "name": "ipython",
    "version": 3
   },
   "file_extension": ".py",
   "mimetype": "text/x-python",
   "name": "python",
   "nbconvert_exporter": "python",
   "pygments_lexer": "ipython3",
   "version": "3.8.0"
  }
 },
 "nbformat": 4,
 "nbformat_minor": 2
}
